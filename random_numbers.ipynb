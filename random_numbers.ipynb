{
 "cells": [
  {
   "cell_type": "code",
   "execution_count": 2,
   "id": "654cdd2a",
   "metadata": {},
   "outputs": [],
   "source": [
    "#Import the random module.\n",
    "import random"
   ]
  },
  {
   "cell_type": "code",
   "execution_count": 3,
   "id": "47c1523a",
   "metadata": {},
   "outputs": [
    {
     "data": {
      "text/plain": [
       "0.5362878277439329"
      ]
     },
     "execution_count": 3,
     "metadata": {},
     "output_type": "execute_result"
    }
   ],
   "source": [
    "#Random single floating-point decimal number b/w 0 to 1.0\n",
    "random.random()"
   ]
  },
  {
   "cell_type": "code",
   "execution_count": 4,
   "id": "14d11932",
   "metadata": {},
   "outputs": [
    {
     "data": {
      "text/plain": [
       "7"
      ]
     },
     "execution_count": 4,
     "metadata": {},
     "output_type": "execute_result"
    }
   ],
   "source": [
    "#Random integer\n",
    "random.randint(-10, 10)"
   ]
  },
  {
   "cell_type": "code",
   "execution_count": 5,
   "id": "57530242",
   "metadata": {},
   "outputs": [
    {
     "data": {
      "text/plain": [
       "1"
      ]
     },
     "execution_count": 5,
     "metadata": {},
     "output_type": "execute_result"
    }
   ],
   "source": [
    "random.randrange(-9,9,2)"
   ]
  },
  {
   "cell_type": "code",
   "execution_count": 6,
   "id": "e535d600",
   "metadata": {},
   "outputs": [
    {
     "data": {
      "text/plain": [
       "4.574066967485626"
      ]
     },
     "execution_count": 6,
     "metadata": {},
     "output_type": "execute_result"
    }
   ],
   "source": [
    "random.uniform(-10, 19)"
   ]
  },
  {
   "cell_type": "code",
   "execution_count": 7,
   "id": "54617ecc",
   "metadata": {},
   "outputs": [],
   "source": [
    "#Import the Numpy module\n",
    "import numpy as np"
   ]
  },
  {
   "cell_type": "code",
   "execution_count": 8,
   "id": "424488e6",
   "metadata": {},
   "outputs": [
    {
     "data": {
      "text/plain": [
       "26.89054371014859"
      ]
     },
     "execution_count": 8,
     "metadata": {},
     "output_type": "execute_result"
    }
   ],
   "source": [
    "np.random.uniform(-90.000, 90.000)\n"
   ]
  },
  {
   "cell_type": "code",
   "execution_count": 9,
   "id": "2a6954d0",
   "metadata": {},
   "outputs": [
    {
     "data": {
      "text/plain": [
       "array([ 33.79023177,  67.31069011,  53.58534294, -70.12593484,\n",
       "        77.24838322,  -9.95592437,  19.78604784,  46.6280079 ,\n",
       "        57.55342389,  45.28095271, -28.88319372,  73.46546073,\n",
       "        -8.30634065,  83.97350077,  41.15409443, -86.5422714 ,\n",
       "       -84.32540996,  87.21316857,  -9.82107036, -84.87188379,\n",
       "        -6.59256936,  67.69945089, -69.01216149,  65.26376748,\n",
       "        30.30966862,  76.36670432,  71.7258929 ,   7.23427295,\n",
       "       -64.72588782,  34.55664665,  53.2940327 , -13.64663137,\n",
       "        23.28415144,   1.21635664, -65.50959701, -53.58417745,\n",
       "       -18.2106898 , -11.52762691,  81.005529  ,  61.6946676 ,\n",
       "       -63.84336751, -70.57462922,  40.41909857,  53.28969861,\n",
       "        11.28307473,   4.37239714, -67.1836667 , -75.54726957,\n",
       "       -31.42551762, -37.8341489 ])"
      ]
     },
     "execution_count": 9,
     "metadata": {},
     "output_type": "execute_result"
    }
   ],
   "source": [
    "np.random.uniform(-90.000, 90.000,size = 50)\n"
   ]
  },
  {
   "cell_type": "code",
   "execution_count": 13,
   "id": "693dd282",
   "metadata": {},
   "outputs": [],
   "source": [
    "# import timeit.\n",
    "import timeit"
   ]
  },
  {
   "cell_type": "code",
   "execution_count": 14,
   "id": "40e1ad31",
   "metadata": {},
   "outputs": [
    {
     "name": "stdout",
     "output_type": "stream",
     "text": [
      "16.9 µs ± 759 ns per loop (mean ± std. dev. of 7 runs, 100000 loops each)\n"
     ]
    }
   ],
   "source": [
    "%timeit np.random.uniform(-90.000, 90.000,size = 1500)"
   ]
  },
  {
   "cell_type": "code",
   "execution_count": 15,
   "id": "4acce6e7",
   "metadata": {},
   "outputs": [
    {
     "name": "stdout",
     "output_type": "stream",
     "text": [
      "2.62 ms ± 181 µs per loop (mean ± std. dev. of 7 runs, 100 loops each)\n"
     ]
    }
   ],
   "source": [
    "def latitudes(size):\n",
    "    latitudes = []\n",
    "    x = 0\n",
    "    while x < (size):\n",
    "        random_lat = random.randint(-90, 90) + random.random()\n",
    "        latitudes.append(random_lat)\n",
    "        x += 1\n",
    "    return latitudes\n",
    "# Call the function with 1500.\n",
    "%timeit latitudes(1500)"
   ]
  },
  {
   "cell_type": "code",
   "execution_count": null,
   "id": "fc9ecb55",
   "metadata": {},
   "outputs": [],
   "source": []
  }
 ],
 "metadata": {
  "kernelspec": {
   "display_name": "PythonData",
   "language": "python",
   "name": "pythondata"
  },
  "language_info": {
   "codemirror_mode": {
    "name": "ipython",
    "version": 3
   },
   "file_extension": ".py",
   "mimetype": "text/x-python",
   "name": "python",
   "nbconvert_exporter": "python",
   "pygments_lexer": "ipython3",
   "version": "3.7.10"
  }
 },
 "nbformat": 4,
 "nbformat_minor": 5
}
